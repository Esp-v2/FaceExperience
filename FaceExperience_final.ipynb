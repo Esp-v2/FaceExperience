{
  "nbformat": 4,
  "nbformat_minor": 0,
  "metadata": {
    "accelerator": "TPU",
    "colab": {
      "name": "FaceExperience_final.ipynb",
      "provenance": [],
      "collapsed_sections": []
    },
    "kernelspec": {
      "display_name": "Python 3",
      "name": "python3"
    },
    "language_info": {
      "name": "python"
    }
  },
  "cells": [
    {
      "cell_type": "markdown",
      "metadata": {
        "id": "Nq9hvgg8zQ2p"
      },
      "source": [
        "**CNNによる2次元顔画像表情判定**"
      ]
    },
    {
      "cell_type": "code",
      "metadata": {
        "colab": {
          "base_uri": "https://localhost:8080/"
        },
        "id": "DlyygK5u_LGY",
        "outputId": "7c357363-2c34-4cb4-87e1-4afd742c0bab"
      },
      "source": [
        "!ps aux\n",
        "!kill -9 <pid>"
      ],
      "execution_count": null,
      "outputs": [
        {
          "output_type": "stream",
          "name": "stdout",
          "text": [
            "USER         PID %CPU %MEM    VSZ   RSS TTY      STAT START   TIME COMMAND\n",
            "root           1  0.0  0.0    992     4 ?        Ss   11:56   0:01 /sbin/docker-\n",
            "root           7  0.0  0.4 345956 56600 ?        Sl   11:56   0:04 /tools/node/b\n",
            "root          18  0.0  0.0  35892  4764 ?        Ss   11:56   0:01 tail -n +0 -F\n",
            "root          36  0.0  0.3 160356 41756 ?        S    11:56   0:00 python3 /usr/\n",
            "root          49  0.0  0.4 194928 61316 ?        Rl   11:56   0:06 /usr/bin/pyth\n",
            "root          50  0.1  0.0 708340  7400 ?        Sl   11:56   0:13 /usr/local/bi\n",
            "root          61  1.2  4.3 2893408 572276 ?      Ssl  12:04   2:33 /usr/bin/pyth\n",
            "root          81  0.1  0.1 129180 17096 ?        Sl   12:04   0:22 /usr/bin/pyth\n",
            "root         123  0.0  0.0  18380   296 ?        S    12:06   0:00 /bin/bash --n\n",
            "root         124  0.0  0.1 2167348 18276 ?       Sl   12:06   0:00 /opt/google/d\n",
            "root         125  0.0  0.0  11728  2336 ?        S    12:06   0:00 grep --color=\n",
            "root         205  0.7  0.8 2548208 118908 ?      Sl   12:06   1:28 /opt/google/d\n",
            "root         276  0.0  0.0  18380  2960 ?        S    12:06   0:00 bash -c tail \n",
            "root         277  0.0  0.0   4572   804 ?        S    12:06   0:00 tail -n +0 -F\n",
            "root         278  0.0  0.0  31740  9600 ?        S    12:06   0:00 python3 /opt/\n",
            "root         868  0.0  0.0  59036  6392 ?        R    15:22   0:00 ps aux\n",
            "root         869  0.0  0.0  27256  1148 ?        R    15:22   0:00 /usr/bin/time\n",
            "/bin/bash: -c: line 0: syntax error near unexpected token `newline'\n",
            "/bin/bash: -c: line 0: `kill -9 <pid>'\n"
          ]
        }
      ]
    },
    {
      "cell_type": "code",
      "metadata": {
        "colab": {
          "base_uri": "https://localhost:8080/"
        },
        "id": "kNFBa-nYFNkR",
        "outputId": "e217f98d-588d-4867-f87a-c595ebddc486"
      },
      "source": [
        "from google.colab import drive\n",
        "drive.mount('/content/drive')"
      ],
      "execution_count": null,
      "outputs": [
        {
          "output_type": "stream",
          "name": "stdout",
          "text": [
            "Drive already mounted at /content/drive; to attempt to forcibly remount, call drive.mount(\"/content/drive\", force_remount=True).\n"
          ]
        }
      ]
    },
    {
      "cell_type": "code",
      "metadata": {
        "id": "_XKF13tnERHW"
      },
      "source": [
        "import os\n",
        "import keras\n",
        "from keras.preprocessing.image import ImageDataGenerator\n",
        "from keras.models import Sequential, Model\n",
        "from keras.layers import Input, Dense, Dropout, Activation, Flatten,MaxPooling2D,Conv2D\n",
        "from keras import optimizers\n",
        "from tensorflow.keras.optimizers import RMSprop\n",
        "from tensorflow.keras.optimizers import Adam"
      ],
      "execution_count": null,
      "outputs": []
    },
    {
      "cell_type": "markdown",
      "metadata": {
        "id": "emmlcpStzibv"
      },
      "source": [
        "**訓練画像、検証画像、テスト画像のディレクトリ**"
      ]
    },
    {
      "cell_type": "code",
      "metadata": {
        "id": "i4YNFRZ-FHHp"
      },
      "source": [
        "classes = ['angry', 'disgust','fear','happy','neutral','sad','surprise']\n",
        "nb_classes = len(classes)\n",
        "batch_size_for_data_generator = 20\n",
        "\n",
        "base_dir = '/content/drive/MyDrive/kaggle/Facial Experience'\n",
        "\n",
        "train_dir = base_dir+'/train'\n",
        "validation_dir = base_dir+'/valid'\n",
        "test_dir = base_dir+'/test'\n",
        "\n",
        "img_rows, img_cols = 48, 48"
      ],
      "execution_count": null,
      "outputs": []
    },
    {
      "cell_type": "markdown",
      "metadata": {
        "id": "v1DoKb8vJULr"
      },
      "source": [
        "os.path.join(base_dir,'path')"
      ]
    },
    {
      "cell_type": "markdown",
      "metadata": {
        "id": "T3U9Oi0z0Ob9"
      },
      "source": [
        "**ImageDataGeneratorを使って画像データを拡張する**"
      ]
    },
    {
      "cell_type": "code",
      "metadata": {
        "colab": {
          "base_uri": "https://localhost:8080/"
        },
        "id": "TZWcxF46V24h",
        "outputId": "756809f0-1800-49dd-8963-d738e1b72155"
      },
      "source": [
        "train_datagen = ImageDataGenerator(rescale=1.0 / 255)\n",
        "train_generator = train_datagen.flow_from_directory(directory=train_dir,\n",
        "                                                    target_size=(img_rows, img_cols),\n",
        "                                                    color_mode='rgb',\n",
        "                                                    classes=classes,\n",
        "                                                    class_mode='categorical',\n",
        "                                                    batch_size=2048,\n",
        "                                                    shuffle=True)"
      ],
      "execution_count": null,
      "outputs": [
        {
          "output_type": "stream",
          "name": "stdout",
          "text": [
            "Found 93005 images belonging to 7 classes.\n"
          ]
        }
      ]
    },
    {
      "cell_type": "markdown",
      "metadata": {
        "id": "XuGxBj_f1yPP"
      },
      "source": [
        "train 93005枚\n",
        "5x11x19x89"
      ]
    },
    {
      "cell_type": "code",
      "metadata": {
        "colab": {
          "base_uri": "https://localhost:8080/"
        },
        "id": "CRDqyGVIWFjm",
        "outputId": "4edb30c3-f70c-4c38-a9c2-40ae2c31d63e"
      },
      "source": [
        "valid_datagen = ImageDataGenerator(rescale=1.0 / 255)\n",
        "validation_generator = valid_datagen.flow_from_directory(directory=validation_dir,\n",
        "                                                        target_size=(img_rows, img_cols),\n",
        "                                                        color_mode='rgb',\n",
        "                                                        classes=classes,\n",
        "                                                        class_mode='categorical',\n",
        "                                                        batch_size=256,\n",
        "                                                        shuffle=True)"
      ],
      "execution_count": null,
      "outputs": [
        {
          "output_type": "stream",
          "name": "stdout",
          "text": [
            "Found 17376 images belonging to 7 classes.\n"
          ]
        }
      ]
    },
    {
      "cell_type": "markdown",
      "metadata": {
        "id": "K7EkjT3x2bk5"
      },
      "source": [
        "valid 17376枚"
      ]
    },
    {
      "cell_type": "markdown",
      "metadata": {
        "id": "qLSUpDGs2ifm"
      },
      "source": [
        "**CNNモデル**"
      ]
    },
    {
      "cell_type": "markdown",
      "metadata": {
        "id": "iIg6Ng3d52cL"
      },
      "source": [
        "出力層\n",
        "二値分類→sigmoid\n",
        "他クラス分類→softmax\n",
        "回帰分類→恒等関数"
      ]
    },
    {
      "cell_type": "code",
      "metadata": {
        "colab": {
          "base_uri": "https://localhost:8080/"
        },
        "id": "YH0jxO1oWNjC",
        "outputId": "56a9a82d-b30b-443a-9388-f7fee032e96d"
      },
      "source": [
        "model=Sequential()\n",
        "# 畳み込み層\n",
        "model.add(Conv2D(32, (3, 3), activation='relu',input_shape=(img_rows, img_cols, 3)))\n",
        "model.add(MaxPooling2D((2, 2)))\n",
        "\n",
        "model.add(Dropout(0.2))\n",
        "\n",
        "model.add(Conv2D(64, (3, 3), activation='relu'))\n",
        "model.add(MaxPooling2D((2, 2)))\n",
        "\n",
        "model.add(Dropout(0.2))\n",
        "\n",
        "model.add(Conv2D(128, (3, 3), activation='relu'))\n",
        "model.add(MaxPooling2D((2, 2)))\n",
        "\n",
        "model.add(Dropout(0.2))\n",
        "\n",
        "model.add(Conv2D(128, (3, 3), activation='relu'))\n",
        "model.add(MaxPooling2D((2, 2)))\n",
        "\n",
        "model.add(Dropout(0.2))\n",
        "\n",
        "# 全結合層\n",
        "model.add(Flatten())\n",
        "model.add(Dense(128, activation='relu'))\n",
        "\n",
        "model.add(Dropout(0.2))\n",
        "\n",
        "# 出力層\n",
        "model.add(Dense(nb_classes, activation='softmax'))\n",
        "          \n",
        "model.summary()"
      ],
      "execution_count": null,
      "outputs": [
        {
          "output_type": "stream",
          "name": "stdout",
          "text": [
            "Model: \"sequential\"\n",
            "_________________________________________________________________\n",
            "Layer (type)                 Output Shape              Param #   \n",
            "=================================================================\n",
            "conv2d (Conv2D)              (None, 46, 46, 32)        896       \n",
            "_________________________________________________________________\n",
            "max_pooling2d (MaxPooling2D) (None, 23, 23, 32)        0         \n",
            "_________________________________________________________________\n",
            "dropout (Dropout)            (None, 23, 23, 32)        0         \n",
            "_________________________________________________________________\n",
            "conv2d_1 (Conv2D)            (None, 21, 21, 64)        18496     \n",
            "_________________________________________________________________\n",
            "max_pooling2d_1 (MaxPooling2 (None, 10, 10, 64)        0         \n",
            "_________________________________________________________________\n",
            "dropout_1 (Dropout)          (None, 10, 10, 64)        0         \n",
            "_________________________________________________________________\n",
            "conv2d_2 (Conv2D)            (None, 8, 8, 128)         73856     \n",
            "_________________________________________________________________\n",
            "max_pooling2d_2 (MaxPooling2 (None, 4, 4, 128)         0         \n",
            "_________________________________________________________________\n",
            "dropout_2 (Dropout)          (None, 4, 4, 128)         0         \n",
            "_________________________________________________________________\n",
            "conv2d_3 (Conv2D)            (None, 2, 2, 128)         147584    \n",
            "_________________________________________________________________\n",
            "max_pooling2d_3 (MaxPooling2 (None, 1, 1, 128)         0         \n",
            "_________________________________________________________________\n",
            "dropout_3 (Dropout)          (None, 1, 1, 128)         0         \n",
            "_________________________________________________________________\n",
            "flatten (Flatten)            (None, 128)               0         \n",
            "_________________________________________________________________\n",
            "dense (Dense)                (None, 128)               16512     \n",
            "_________________________________________________________________\n",
            "dropout_4 (Dropout)          (None, 128)               0         \n",
            "_________________________________________________________________\n",
            "dense_1 (Dense)              (None, 7)                 903       \n",
            "=================================================================\n",
            "Total params: 258,247\n",
            "Trainable params: 258,247\n",
            "Non-trainable params: 0\n",
            "_________________________________________________________________\n"
          ]
        }
      ]
    },
    {
      "cell_type": "code",
      "metadata": {
        "colab": {
          "base_uri": "https://localhost:8080/"
        },
        "id": "rJb_lDZoWX96",
        "outputId": "44f66e34-5f78-4733-e597-461b5f2b125b"
      },
      "source": [
        "opt = Adam(lr=0.001, decay=1e-6)\n",
        "model.compile(loss='categorical_crossentropy',optimizer= opt, metrics=['acc'])"
      ],
      "execution_count": null,
      "outputs": [
        {
          "output_type": "stream",
          "name": "stderr",
          "text": [
            "/usr/local/lib/python3.7/dist-packages/keras/optimizer_v2/optimizer_v2.py:356: UserWarning: The `lr` argument is deprecated, use `learning_rate` instead.\n",
            "  \"The `lr` argument is deprecated, use `learning_rate` instead.\")\n"
          ]
        }
      ]
    },
    {
      "cell_type": "markdown",
      "metadata": {
        "id": "WCQQwsls4aKW"
      },
      "source": [
        "**コールバックを使った学習**"
      ]
    },
    {
      "cell_type": "code",
      "metadata": {
        "id": "HuTqNiABCVar"
      },
      "source": [
        "hdf5_file = os.path.join(base_dir, 'model.hdf5')"
      ],
      "execution_count": null,
      "outputs": []
    },
    {
      "cell_type": "code",
      "metadata": {
        "colab": {
          "base_uri": "https://localhost:8080/",
          "height": 304
        },
        "id": "zpZ3vat1KfhN",
        "outputId": "1105fa32-b594-4d2b-e7c2-f48a3f2ac555"
      },
      "source": [
        "model.load_weights(hdf5_file)"
      ],
      "execution_count": null,
      "outputs": [
        {
          "output_type": "error",
          "ename": "ValueError",
          "evalue": "ignored",
          "traceback": [
            "\u001b[0;31m---------------------------------------------------------------------------\u001b[0m",
            "\u001b[0;31mValueError\u001b[0m                                Traceback (most recent call last)",
            "\u001b[0;32m<ipython-input-7-e53c062d04d7>\u001b[0m in \u001b[0;36m<module>\u001b[0;34m()\u001b[0m\n\u001b[1;32m      1\u001b[0m \u001b[0mmodel\u001b[0m\u001b[0;34m=\u001b[0m\u001b[0mSequential\u001b[0m\u001b[0;34m(\u001b[0m\u001b[0;34m)\u001b[0m\u001b[0;34m\u001b[0m\u001b[0;34m\u001b[0m\u001b[0m\n\u001b[0;32m----> 2\u001b[0;31m \u001b[0mmodel\u001b[0m\u001b[0;34m.\u001b[0m\u001b[0mload_weights\u001b[0m\u001b[0;34m(\u001b[0m\u001b[0mhdf5_file\u001b[0m\u001b[0;34m)\u001b[0m\u001b[0;34m\u001b[0m\u001b[0;34m\u001b[0m\u001b[0m\n\u001b[0m",
            "\u001b[0;32m/usr/local/lib/python3.7/dist-packages/keras/engine/training.py\u001b[0m in \u001b[0;36mload_weights\u001b[0;34m(self, filepath, by_name, skip_mismatch, options)\u001b[0m\n\u001b[1;32m   2348\u001b[0m       \u001b[0;32mif\u001b[0m \u001b[0;32mnot\u001b[0m \u001b[0mself\u001b[0m\u001b[0;34m.\u001b[0m\u001b[0m_is_graph_network\u001b[0m \u001b[0;32mand\u001b[0m \u001b[0;32mnot\u001b[0m \u001b[0mself\u001b[0m\u001b[0;34m.\u001b[0m\u001b[0mbuilt\u001b[0m\u001b[0;34m:\u001b[0m\u001b[0;34m\u001b[0m\u001b[0;34m\u001b[0m\u001b[0m\n\u001b[1;32m   2349\u001b[0m         raise ValueError(\n\u001b[0;32m-> 2350\u001b[0;31m             \u001b[0;34m'Unable to load weights saved in HDF5 format into a subclassed '\u001b[0m\u001b[0;34m\u001b[0m\u001b[0;34m\u001b[0m\u001b[0m\n\u001b[0m\u001b[1;32m   2351\u001b[0m             \u001b[0;34m'Model which has not created its variables yet. Call the Model '\u001b[0m\u001b[0;34m\u001b[0m\u001b[0;34m\u001b[0m\u001b[0m\n\u001b[1;32m   2352\u001b[0m             'first, then load the weights.')\n",
            "\u001b[0;31mValueError\u001b[0m: Unable to load weights saved in HDF5 format into a subclassed Model which has not created its variables yet. Call the Model first, then load the weights."
          ]
        }
      ]
    },
    {
      "cell_type": "markdown",
      "metadata": {
        "id": "IKIS8wpnzFBa"
      },
      "source": [
        "再度ここから"
      ]
    },
    {
      "cell_type": "code",
      "metadata": {
        "colab": {
          "base_uri": "https://localhost:8080/"
        },
        "id": "OZy9RFVmBks9",
        "outputId": "a58146ed-e500-449c-d087-b781a147c119"
      },
      "source": [
        "from keras.callbacks import ModelCheckpoint\n",
        "modelCheckpoint = ModelCheckpoint(filepath = hdf5_file,\n",
        "                                  monitor='loss',\n",
        "                                  verbose=1,\n",
        "                                  save_best_only=True,\n",
        "                                  save_weights_only=False,\n",
        "                                  mode='min',\n",
        "                                  period=1)"
      ],
      "execution_count": null,
      "outputs": [
        {
          "output_type": "stream",
          "name": "stdout",
          "text": [
            "WARNING:tensorflow:`period` argument is deprecated. Please use `save_freq` to specify the frequency in number of batches seen.\n"
          ]
        }
      ]
    },
    {
      "cell_type": "code",
      "metadata": {
        "colab": {
          "base_uri": "https://localhost:8080/"
        },
        "id": "CwpOn_MdWq91",
        "outputId": "e2152b14-64b0-4053-fdce-768c5178321c"
      },
      "source": [
        "history = model.fit(train_generator,\n",
        "                    steps_per_epoch=45,\n",
        "                    epochs=5,\n",
        "                    validation_data=validation_generator,\n",
        "                    validation_steps=67,\n",
        "                    callbacks=[modelCheckpoint],\n",
        "                    verbose=1)"
      ],
      "execution_count": null,
      "outputs": [
        {
          "output_type": "stream",
          "name": "stdout",
          "text": [
            "Epoch 1/5\n",
            "45/45 [==============================] - 490s 11s/step - loss: 0.8772 - acc: 0.6868 - val_loss: 1.3299 - val_acc: 0.5326\n",
            "\n",
            "Epoch 00001: loss improved from 0.87861 to 0.87718, saving model to /content/drive/MyDrive/kaggle/Facial Experience/model.hdf5\n",
            "Epoch 2/5\n",
            "45/45 [==============================] - 464s 10s/step - loss: 0.8793 - acc: 0.6861 - val_loss: 1.3391 - val_acc: 0.5317\n",
            "\n",
            "Epoch 00002: loss did not improve from 0.87718\n",
            "Epoch 3/5\n",
            "45/45 [==============================] - 458s 10s/step - loss: 0.8688 - acc: 0.6909 - val_loss: 1.3220 - val_acc: 0.5402\n",
            "\n",
            "Epoch 00003: loss improved from 0.87718 to 0.86884, saving model to /content/drive/MyDrive/kaggle/Facial Experience/model.hdf5\n",
            "Epoch 4/5\n",
            "45/45 [==============================] - 460s 10s/step - loss: 0.8672 - acc: 0.6915 - val_loss: 1.3055 - val_acc: 0.5448\n",
            "\n",
            "Epoch 00004: loss improved from 0.86884 to 0.86716, saving model to /content/drive/MyDrive/kaggle/Facial Experience/model.hdf5\n",
            "Epoch 5/5\n",
            "45/45 [==============================] - 464s 10s/step - loss: 0.8626 - acc: 0.6928 - val_loss: 1.3307 - val_acc: 0.5355\n",
            "\n",
            "Epoch 00005: loss improved from 0.86716 to 0.86262, saving model to /content/drive/MyDrive/kaggle/Facial Experience/model.hdf5\n"
          ]
        }
      ]
    },
    {
      "cell_type": "code",
      "metadata": {
        "id": "6RWIBKMEWxTo"
      },
      "source": [
        "model.save(hdf5_file)"
      ],
      "execution_count": null,
      "outputs": []
    },
    {
      "cell_type": "code",
      "metadata": {
        "id": "FB1RGpShZAxx"
      },
      "source": [
        "import matplotlib.pyplot as plt"
      ],
      "execution_count": null,
      "outputs": []
    },
    {
      "cell_type": "code",
      "metadata": {
        "id": "oT-olribZELf"
      },
      "source": [
        "%matplotlib inline"
      ],
      "execution_count": null,
      "outputs": []
    },
    {
      "cell_type": "code",
      "metadata": {
        "colab": {
          "base_uri": "https://localhost:8080/",
          "height": 545
        },
        "id": "ILeMIAeoZE5L",
        "outputId": "75dc47f6-89d8-4a1f-bf10-ee43fdc00a5f"
      },
      "source": [
        "acc = history.history['acc']\n",
        "val_acc = history.history['val_acc']\n",
        "loss = history.history['loss']\n",
        "val_loss = history.history['val_loss']\n",
        "\n",
        "epochs = range(len(acc))\n",
        "\n",
        "plt.plot(epochs, acc, 'bo', label='Training acc')\n",
        "plt.plot(epochs, val_acc, 'b', label='Validation acc')\n",
        "plt.title('Training and validation accuracy')\n",
        "plt.legend()\n",
        "\n",
        "plt.figure()\n",
        "\n",
        "plt.plot(epochs, loss, 'bo', label='Training loss')\n",
        "plt.plot(epochs, val_loss, 'b', label='Validation loss')\n",
        "plt.title('Training and validation loss')\n",
        "plt.legend()\n",
        "\n",
        "plt.show()"
      ],
      "execution_count": null,
      "outputs": [
        {
          "output_type": "display_data",
          "data": {
            "image/png": "[encoded data removed]",
            "text/plain": [
              "<Figure size 432x288 with 1 Axes>"
            ]
          },
          "metadata": {
            "needs_background": "light"
          }
        },
        {
          "output_type": "display_data",
          "data": {
            "image/png": "[encoded data removed]",
            "text/plain": [
              "<Figure size 432x288 with 1 Axes>"
            ]
          },
          "metadata": {
            "needs_background": "light"
          }
        }
      ]
    },
    {
      "cell_type": "markdown",
      "metadata": {
        "id": "Io1A1fx02E3p"
      },
      "source": [
        "**テスト**"
      ]
    },
    {
      "cell_type": "code",
      "metadata": {
        "id": "yJX9XR0AXyap"
      },
      "source": [
        "hdf5_file = os.path.join(base_dir, 'model.hdf5')"
      ],
      "execution_count": null,
      "outputs": []
    },
    {
      "cell_type": "code",
      "metadata": {
        "id": "-Mo7v1tA2IDM"
      },
      "source": [
        "model=keras.models.load_model(hdf5_file)"
      ],
      "execution_count": null,
      "outputs": []
    },
    {
      "cell_type": "code",
      "metadata": {
        "id": "RcPSD3HajYzT"
      },
      "source": [
        "test_datagen = ImageDataGenerator(rescale=1.0 / 255)"
      ],
      "execution_count": null,
      "outputs": []
    },
    {
      "cell_type": "code",
      "metadata": {
        "colab": {
          "base_uri": "https://localhost:8080/"
        },
        "id": "rbJwdZZoZJqz",
        "outputId": "1e39d03b-58ce-4c4a-c950-90e90d067802"
      },
      "source": [
        "import numpy as np\n",
        "test_generator = test_datagen.flow_from_directory(directory=test_dir,\n",
        "                                                  target_size=(img_rows, img_cols),\n",
        "                                                  color_mode='rgb',\n",
        "                                                  classes=classes,\n",
        "                                                  class_mode='categorical',\n",
        "                                                  batch_size=32,\n",
        "                                                  shuffle=False)\n",
        "\n",
        "test_steps_per_Epoch = np.math.ceil(test_generator.samples / test_generator.batch_size)"
      ],
      "execution_count": null,
      "outputs": [
        {
          "output_type": "stream",
          "name": "stdout",
          "text": [
            "Found 17496 images belonging to 7 classes.\n"
          ]
        }
      ]
    },
    {
      "cell_type": "code",
      "metadata": {
        "id": "HHpKFJ7WxSvG"
      },
      "source": [
        "from sklearn.metrics import roc_curve\n",
        "import matplotlib.pyplot as plt"
      ],
      "execution_count": null,
      "outputs": []
    },
    {
      "cell_type": "code",
      "metadata": {
        "colab": {
          "base_uri": "https://localhost:8080/"
        },
        "id": "eta-fthmqFhI",
        "outputId": "58b4c8ee-3972-47b1-dd41-dea3a5381804"
      },
      "source": [
        "predictions = model.predict_generator(test_generator, steps=test_steps_per_Epoch)\n",
        "# Get most likely class\n",
        "predicted_classes = np.argmax(predictions, axis=1)\n",
        "# Ground-Truthクラスとクラスラベルを取得する\n",
        "true_classes = test_generator.classes\n",
        "class_labels = list(test_generator.class_indices.keys())"
      ],
      "execution_count": null,
      "outputs": [
        {
          "output_type": "stream",
          "name": "stderr",
          "text": [
            "/usr/local/lib/python3.7/dist-packages/ipykernel_launcher.py:1: UserWarning: `Model.predict_generator` is deprecated and will be removed in a future version. Please use `Model.predict`, which supports generators.\n",
            "  \"\"\"Entry point for launching an IPython kernel.\n"
          ]
        }
      ]
    },
    {
      "cell_type": "markdown",
      "metadata": {
        "id": "5qCD45FIH_fN"
      },
      "source": [
        "**ROC曲線**"
      ]
    },
    {
      "cell_type": "code",
      "metadata": {
        "id": "iugEPAvZDt_B"
      },
      "source": [
        "import pandas as pd"
      ],
      "execution_count": null,
      "outputs": []
    },
    {
      "cell_type": "code",
      "metadata": {
        "colab": {
          "base_uri": "https://localhost:8080/",
          "height": 424
        },
        "id": "avzFYNNIDxEY",
        "outputId": "c64abe77-d5a6-4b3d-8cdf-64de88711c02"
      },
      "source": [
        "df = pd.DataFrame(predictions,columns =classes)\n",
        "df.insert(0, 'true_classes', true_classes)\n",
        "df"
      ],
      "execution_count": null,
      "outputs": [
        {
          "output_type": "execute_result",
          "data": {
            "text/html": [
              "<div>\n",
              "<style scoped>\n",
              "    .dataframe tbody tr th:only-of-type {\n",
              "        vertical-align: middle;\n",
              "    }\n",
              "\n",
              "    .dataframe tbody tr th {\n",
              "        vertical-align: top;\n",
              "    }\n",
              "\n",
              "    .dataframe thead th {\n",
              "        text-align: right;\n",
              "    }\n",
              "</style>\n",
              "<table border=\"1\" class=\"dataframe\">\n",
              "  <thead>\n",
              "    <tr style=\"text-align: right;\">\n",
              "      <th></th>\n",
              "      <th>true_classes</th>\n",
              "      <th>angry</th>\n",
              "      <th>disgust</th>\n",
              "      <th>fear</th>\n",
              "      <th>happy</th>\n",
              "      <th>neutral</th>\n",
              "      <th>sad</th>\n",
              "      <th>surprise</th>\n",
              "    </tr>\n",
              "  </thead>\n",
              "  <tbody>\n",
              "    <tr>\n",
              "      <th>0</th>\n",
              "      <td>0</td>\n",
              "      <td>0.463609</td>\n",
              "      <td>0.126887</td>\n",
              "      <td>0.037178</td>\n",
              "      <td>0.003320</td>\n",
              "      <td>0.110525</td>\n",
              "      <td>0.233876</td>\n",
              "      <td>0.024605</td>\n",
              "    </tr>\n",
              "    <tr>\n",
              "      <th>1</th>\n",
              "      <td>0</td>\n",
              "      <td>0.433140</td>\n",
              "      <td>0.132621</td>\n",
              "      <td>0.032927</td>\n",
              "      <td>0.027482</td>\n",
              "      <td>0.230163</td>\n",
              "      <td>0.093374</td>\n",
              "      <td>0.050293</td>\n",
              "    </tr>\n",
              "    <tr>\n",
              "      <th>2</th>\n",
              "      <td>0</td>\n",
              "      <td>0.825364</td>\n",
              "      <td>0.042959</td>\n",
              "      <td>0.003239</td>\n",
              "      <td>0.000192</td>\n",
              "      <td>0.101429</td>\n",
              "      <td>0.026430</td>\n",
              "      <td>0.000389</td>\n",
              "    </tr>\n",
              "    <tr>\n",
              "      <th>3</th>\n",
              "      <td>0</td>\n",
              "      <td>0.459781</td>\n",
              "      <td>0.147730</td>\n",
              "      <td>0.015097</td>\n",
              "      <td>0.013627</td>\n",
              "      <td>0.275506</td>\n",
              "      <td>0.072112</td>\n",
              "      <td>0.016147</td>\n",
              "    </tr>\n",
              "    <tr>\n",
              "      <th>4</th>\n",
              "      <td>0</td>\n",
              "      <td>0.855410</td>\n",
              "      <td>0.053865</td>\n",
              "      <td>0.048202</td>\n",
              "      <td>0.004669</td>\n",
              "      <td>0.009423</td>\n",
              "      <td>0.003138</td>\n",
              "      <td>0.025293</td>\n",
              "    </tr>\n",
              "    <tr>\n",
              "      <th>...</th>\n",
              "      <td>...</td>\n",
              "      <td>...</td>\n",
              "      <td>...</td>\n",
              "      <td>...</td>\n",
              "      <td>...</td>\n",
              "      <td>...</td>\n",
              "      <td>...</td>\n",
              "      <td>...</td>\n",
              "    </tr>\n",
              "    <tr>\n",
              "      <th>17491</th>\n",
              "      <td>6</td>\n",
              "      <td>0.000803</td>\n",
              "      <td>0.000312</td>\n",
              "      <td>0.056531</td>\n",
              "      <td>0.006388</td>\n",
              "      <td>0.001971</td>\n",
              "      <td>0.000735</td>\n",
              "      <td>0.933261</td>\n",
              "    </tr>\n",
              "    <tr>\n",
              "      <th>17492</th>\n",
              "      <td>6</td>\n",
              "      <td>0.002096</td>\n",
              "      <td>0.000166</td>\n",
              "      <td>0.233407</td>\n",
              "      <td>0.001211</td>\n",
              "      <td>0.000187</td>\n",
              "      <td>0.000477</td>\n",
              "      <td>0.762455</td>\n",
              "    </tr>\n",
              "    <tr>\n",
              "      <th>17493</th>\n",
              "      <td>6</td>\n",
              "      <td>0.071024</td>\n",
              "      <td>0.016801</td>\n",
              "      <td>0.074791</td>\n",
              "      <td>0.008639</td>\n",
              "      <td>0.464110</td>\n",
              "      <td>0.357621</td>\n",
              "      <td>0.007014</td>\n",
              "    </tr>\n",
              "    <tr>\n",
              "      <th>17494</th>\n",
              "      <td>6</td>\n",
              "      <td>0.126203</td>\n",
              "      <td>0.007130</td>\n",
              "      <td>0.425216</td>\n",
              "      <td>0.154314</td>\n",
              "      <td>0.108643</td>\n",
              "      <td>0.145225</td>\n",
              "      <td>0.033269</td>\n",
              "    </tr>\n",
              "    <tr>\n",
              "      <th>17495</th>\n",
              "      <td>6</td>\n",
              "      <td>0.003189</td>\n",
              "      <td>0.000604</td>\n",
              "      <td>0.230564</td>\n",
              "      <td>0.001638</td>\n",
              "      <td>0.005271</td>\n",
              "      <td>0.002192</td>\n",
              "      <td>0.756541</td>\n",
              "    </tr>\n",
              "  </tbody>\n",
              "</table>\n",
              "<p>17496 rows × 8 columns</p>\n",
              "</div>"
            ],
            "text/plain": [
              "       true_classes     angry   disgust  ...   neutral       sad  surprise\n",
              "0                 0  0.463609  0.126887  ...  0.110525  0.233876  0.024605\n",
              "1                 0  0.433140  0.132621  ...  0.230163  0.093374  0.050293\n",
              "2                 0  0.825364  0.042959  ...  0.101429  0.026430  0.000389\n",
              "3                 0  0.459781  0.147730  ...  0.275506  0.072112  0.016147\n",
              "4                 0  0.855410  0.053865  ...  0.009423  0.003138  0.025293\n",
              "...             ...       ...       ...  ...       ...       ...       ...\n",
              "17491             6  0.000803  0.000312  ...  0.001971  0.000735  0.933261\n",
              "17492             6  0.002096  0.000166  ...  0.000187  0.000477  0.762455\n",
              "17493             6  0.071024  0.016801  ...  0.464110  0.357621  0.007014\n",
              "17494             6  0.126203  0.007130  ...  0.108643  0.145225  0.033269\n",
              "17495             6  0.003189  0.000604  ...  0.005271  0.002192  0.756541\n",
              "\n",
              "[17496 rows x 8 columns]"
            ]
          },
          "metadata": {},
          "execution_count": 35
        }
      ]
    },
    {
      "cell_type": "code",
      "metadata": {
        "id": "CLCSzzL0GCdD"
      },
      "source": [
        "from sklearn.preprocessing import label_binarize\n",
        "y_test = label_binarize(df.iloc[:, 0], classes=[0,1,2,3,4,5,6])"
      ],
      "execution_count": null,
      "outputs": []
    },
    {
      "cell_type": "code",
      "metadata": {
        "id": "MkiGveqyGa6T"
      },
      "source": [
        "M1_y_score = []\n",
        "for i in df.index:\n",
        "    M1_y_score.append(([df.iloc[i, 1], df.iloc[i, 2], df.iloc[i, 3], df.iloc[i, 4], df.iloc[i, 5], df.iloc[i, 6], df.iloc[i, 7]]))\n",
        "M1_y_score = M1_y_score"
      ],
      "execution_count": null,
      "outputs": []
    },
    {
      "cell_type": "code",
      "metadata": {
        "colab": {
          "base_uri": "https://localhost:8080/"
        },
        "id": "F_9RtsTNGv0l",
        "outputId": "301d0219-96e2-4004-93c6-d62360a3e7aa"
      },
      "source": [
        "#多クラスの AUC \n",
        "from sklearn.metrics import roc_auc_score\n",
        "auc_m1 = roc_auc_score(y_test, M1_y_score, multi_class=\"ovo\")\n",
        "print(auc_m1)"
      ],
      "execution_count": null,
      "outputs": [
        {
          "output_type": "stream",
          "name": "stdout",
          "text": [
            "0.8413539008041602\n"
          ]
        }
      ]
    },
    {
      "cell_type": "code",
      "metadata": {
        "id": "aBqSFCXwG7ig"
      },
      "source": [
        "M1_fpr = dict()\n",
        "M1_tpr = dict()\n",
        "M1_roc_auc = dict()"
      ],
      "execution_count": null,
      "outputs": []
    },
    {
      "cell_type": "code",
      "metadata": {
        "id": "DZUWVQJ9G1DF"
      },
      "source": [
        "M1_y_score = np.array(M1_y_score)\n",
        "n_classes = 7\n",
        "from sklearn.metrics import roc_curve, auc\n",
        "for i in range(n_classes):\n",
        "    M1_fpr[i], M1_tpr[i], _ = roc_curve(y_test[:, i], M1_y_score[:, i])\n",
        "    M1_roc_auc[i] = auc(M1_fpr[i], M1_tpr[i])"
      ],
      "execution_count": null,
      "outputs": []
    },
    {
      "cell_type": "code",
      "metadata": {
        "id": "d9btQVZ6HYzY"
      },
      "source": [
        "M1_all_fpr = np.unique(np.concatenate([M1_fpr[i] for i in range(n_classes)]))\n",
        "\n",
        "M1_mean_tpr = np.zeros_like(M1_all_fpr)\n",
        "\n",
        "\n",
        "for i in range(n_classes):\n",
        "    M1_mean_tpr += np.interp(M1_all_fpr, M1_fpr[i], M1_tpr[i])\n",
        "\n",
        "\n",
        "M1_mean_tpr /= n_classes\n",
        "\n",
        "M1_fpr[\"macro\"] = M1_all_fpr\n",
        "M1_tpr[\"macro\"] = M1_mean_tpr\n",
        "M1_roc_auc[\"macro\"] = auc(M1_fpr[\"macro\"], M1_tpr[\"macro\"])"
      ],
      "execution_count": null,
      "outputs": []
    },
    {
      "cell_type": "code",
      "metadata": {
        "colab": {
          "base_uri": "https://localhost:8080/",
          "height": 388
        },
        "id": "GcVcoUaQHiCQ",
        "outputId": "121c379c-656b-4305-c2fa-a3d7e5af44b6"
      },
      "source": [
        "import matplotlib.pyplot as plt\n",
        "from matplotlib import cm\n",
        "import seaborn as sns\n",
        "\n",
        "lw=1\n",
        "colors = [cm.gist_ncar(190), cm.gist_ncar(30), cm.gist_ncar(10)]\n",
        "sns.color_palette(colors)\n",
        "sns.set_palette(colors, desat=1.0)\n",
        "\n",
        "plt.figure(figsize=(6, 6))\n",
        "\n",
        "plt.plot(M1_fpr[\"macro\"], M1_tpr[\"macro\"],\n",
        "         label='M1',\n",
        "         color=colors[0], \n",
        "         linestyle='-', \n",
        "         linewidth=2)\n",
        "\n",
        "\n",
        "plt.plot([0, 1], [0, 1], 'k--', lw=lw)\n",
        "plt.xlim([0.0, 1.0])\n",
        "plt.ylim([0.0, 1.05])\n",
        "plt.xlabel('False Positive Rate')\n",
        "plt.ylabel('True Positive Rate')\n",
        "plt.legend(loc=\"lower right\")\n",
        "plt.show()"
      ],
      "execution_count": null,
      "outputs": [
        {
          "output_type": "display_data",
          "data": {
            "image/png": "[encoded data removed]",
            "text/plain": [
              "<Figure size 432x432 with 1 Axes>"
            ]
          },
          "metadata": {
            "needs_background": "light"
          }
        }
      ]
    },
    {
      "cell_type": "markdown",
      "metadata": {
        "id": "MOEUaUEzH4Fi"
      },
      "source": [
        "**------------------ここまでROC--------------------**"
      ]
    },
    {
      "cell_type": "code",
      "metadata": {
        "colab": {
          "base_uri": "https://localhost:8080/"
        },
        "id": "C9ysbq3h8c_B",
        "outputId": "6157f5d3-f495-4201-a912-6abc1709d93e"
      },
      "source": [
        "from sklearn import metrics\n",
        "# scikit-learnを使用して統計を取得する\n",
        "report = metrics.classification_report(true_classes, \n",
        "                                       predicted_classes, \n",
        "                                       labels=np.arange(len(classes)),\n",
        "                                       target_names=classes)\n",
        "print(report)"
      ],
      "execution_count": null,
      "outputs": [
        {
          "output_type": "stream",
          "name": "stdout",
          "text": [
            "              precision    recall  f1-score   support\n",
            "\n",
            "       angry       0.49      0.59      0.54      1041\n",
            "     disgust       0.52      0.03      0.05       655\n",
            "        fear       0.44      0.23      0.30       691\n",
            "       happy       0.85      0.49      0.62      5469\n",
            "     neutral       0.53      0.85      0.66      5988\n",
            "         sad       0.42      0.31      0.36      2177\n",
            "    surprise       0.55      0.56      0.56      1475\n",
            "\n",
            "    accuracy                           0.58     17496\n",
            "   macro avg       0.54      0.44      0.44     17496\n",
            "weighted avg       0.61      0.58      0.56     17496\n",
            "\n"
          ]
        }
      ]
    },
    {
      "cell_type": "markdown",
      "metadata": {
        "id": "3c3S0sPF3z0W"
      },
      "source": [
        "正解率（accuracy）: accuracy_score()\n",
        "\n",
        "適合率（precision）: precision_score()\n",
        "\n",
        "再現率（recall）: recall_score()\n",
        "\n",
        "F1値（F1-measure）: f1_score()"
      ]
    },
    {
      "cell_type": "markdown",
      "metadata": {
        "id": "a5N7sfI5NCPV"
      },
      "source": [
        "**混同行列**\n"
      ]
    },
    {
      "cell_type": "code",
      "metadata": {
        "colab": {
          "base_uri": "https://localhost:8080/",
          "height": 663
        },
        "id": "sGh1Cw6YNORu",
        "outputId": "8e6e4d77-082d-4104-d525-9e5e88eb8f37"
      },
      "source": [
        "from sklearn.metrics import confusion_matrix,ConfusionMatrixDisplay\n",
        "\n",
        "Y_pred = model.predict_generator(test_generator, test_steps_per_Epoch)\n",
        "y_pred = np.argmax(Y_pred, axis=1)\n",
        "print(\"Confusion Matrix\")\n",
        "# confusion matrixの作成\n",
        "cm = confusion_matrix(test_generator.classes, y_pred)\n",
        "#表示\n",
        "cmd = ConfusionMatrixDisplay(confusion_matrix=cm, display_labels=classes)\n",
        "fig, ax = plt.subplots(figsize=(10, 10))\n",
        "cmd.plot(ax=ax, cmap=\"Blues\")"
      ],
      "execution_count": null,
      "outputs": [
        {
          "output_type": "stream",
          "name": "stderr",
          "text": [
            "/usr/local/lib/python3.7/dist-packages/ipykernel_launcher.py:3: UserWarning: `Model.predict_generator` is deprecated and will be removed in a future version. Please use `Model.predict`, which supports generators.\n",
            "  This is separate from the ipykernel package so we can avoid doing imports until\n"
          ]
        },
        {
          "output_type": "stream",
          "name": "stdout",
          "text": [
            "Confusion Matrix\n"
          ]
        },
        {
          "output_type": "execute_result",
          "data": {
            "text/plain": [
              "<sklearn.metrics._plot.confusion_matrix.ConfusionMatrixDisplay at 0x7fa0d8cd9790>"
            ]
          },
          "metadata": {},
          "execution_count": 44
        },
        {
          "output_type": "display_data",
          "data": {
            "image/png": "[encoded data removed]",
            "text/plain": [
              "<Figure size 720x720 with 2 Axes>"
            ]
          },
          "metadata": {
            "needs_background": "light"
          }
        }
      ]
    },
    {
      "cell_type": "markdown",
      "metadata": {
        "id": "_k-jUgsC5b3Y"
      },
      "source": [
        "**参考**\n",
        "\n",
        "\n",
        "*   [Keras / CNN] 多クラス画像分類 --- ラーメンの味分類\n",
        "\n",
        "    https://qiita.com/Phoeboooo/items/cfe8560fe8a285855340\n",
        "*   roc曲線\n",
        "\n",
        "    https://qiita.com/hirota_ortho/items/5e1e1976dbdfc8acd7f0\n"
      ]
    }
  ]
}